{
 "cells": [
  {
   "cell_type": "code",
   "execution_count": 1,
   "id": "437172ab",
   "metadata": {},
   "outputs": [
    {
     "data": {
      "text/plain": [
       "True"
      ]
     },
     "execution_count": 1,
     "metadata": {},
     "output_type": "execute_result"
    }
   ],
   "source": [
    "from dotenv import load_dotenv, find_dotenv\n",
    "\n",
    "load_dotenv(find_dotenv())"
   ]
  },
  {
   "cell_type": "code",
   "execution_count": 2,
   "id": "74383eba",
   "metadata": {},
   "outputs": [
    {
     "data": {
      "text/plain": [
       "'/home/mori/.gcloud/agent-engine-test-461308-a2228f8932d9.json'"
      ]
     },
     "execution_count": 2,
     "metadata": {},
     "output_type": "execute_result"
    }
   ],
   "source": [
    "import os\n",
    "\n",
    "os.environ[\"GOOGLE_APPLICATION_CREDENTIALS\"]"
   ]
  },
  {
   "cell_type": "markdown",
   "id": "6bcc312b",
   "metadata": {},
   "source": [
    "## Cloud SQL Proxy を通してユーザ名とパスワードで接続する\n"
   ]
  },
  {
   "cell_type": "code",
   "execution_count": null,
   "id": "6132efb4",
   "metadata": {},
   "outputs": [],
   "source": [
    "# !nohup cloud-sql-proxy --address 127.0.0.1 --port 5432 agent-engine-test-461308:us-central1:agent-engine-test &"
   ]
  },
  {
   "cell_type": "code",
   "execution_count": 4,
   "id": "b4edd927",
   "metadata": {},
   "outputs": [],
   "source": [
    "project_id = \"agent-engine-test-461308\"\n",
    "region = \"us-central1\"\n",
    "instance_name = \"agent-engine-test\"\n",
    "database_name = \"testdb\"\n",
    "db_user = \"postgres\"\n",
    "db_password = \"postgres\""
   ]
  },
  {
   "cell_type": "code",
   "execution_count": null,
   "id": "a9d9758b",
   "metadata": {},
   "outputs": [
    {
     "name": "stdout",
     "output_type": "stream",
     "text": [
      "(1, 'Alice', 30)\n",
      "(2, 'Bob', 25)\n",
      "(3, 'Charlie', 35)\n"
     ]
    }
   ],
   "source": [
    "import psycopg2\n",
    "\n",
    "\n",
    "try:\n",
    "    conn = psycopg2.connect(\n",
    "        host=\"127.0.0.1\",\n",
    "        port=\"5432\",\n",
    "        user=db_user,\n",
    "        password=db_password,\n",
    "        database=database_name,\n",
    "    )\n",
    "    cur = conn.cursor()\n",
    "    cur.execute(\"SELECT * FROM mytable;\")\n",
    "    rows = cur.fetchall()\n",
    "\n",
    "    for row in rows:\n",
    "        print(row)\n",
    "\n",
    "    cur.close()\n",
    "    conn.close()\n",
    "except Exception as e:\n",
    "    print(f\"Connection error: {e}\")"
   ]
  },
  {
   "cell_type": "markdown",
   "id": "31475582",
   "metadata": {},
   "source": [
    "## Cloud SQL Python Connector を通して接続する\n",
    "\n",
    "- サービスアカウントのロールに `Cloud SQL クライアント` を追加する\n"
   ]
  },
  {
   "cell_type": "code",
   "execution_count": 5,
   "id": "d2fcfdbc",
   "metadata": {},
   "outputs": [],
   "source": [
    "project_id = \"agent-engine-test-461308\"\n",
    "region = \"us-central1\"\n",
    "instance_name = \"agent-engine-test\"\n",
    "database_name = \"testdb\"\n",
    "db_user = \"postgres\"\n",
    "db_password = \"postgres\""
   ]
  },
  {
   "cell_type": "code",
   "execution_count": 10,
   "id": "2f8addc8",
   "metadata": {},
   "outputs": [
    {
     "name": "stdout",
     "output_type": "stream",
     "text": [
      "[1, 'Alice', 30]\n",
      "[2, 'Bob', 25]\n",
      "[3, 'Charlie', 35]\n"
     ]
    }
   ],
   "source": [
    "from google.cloud.sql.connector import Connector\n",
    "\n",
    "connector = Connector()\n",
    "\n",
    "\n",
    "def getconn():\n",
    "    conn = connector.connect(\n",
    "        f\"{project_id}:{region}:{instance_name}\",\n",
    "        \"pg8000\",\n",
    "        user=db_user,\n",
    "        password=db_password,\n",
    "        db=database_name,\n",
    "    )\n",
    "    return conn\n",
    "\n",
    "\n",
    "try:\n",
    "    with getconn() as conn:\n",
    "        cur = conn.cursor()\n",
    "        cur.execute(\"SELECT * FROM mytable;\")\n",
    "        rows = cur.fetchall()\n",
    "        for row in rows:\n",
    "            print(row)\n",
    "        cur.close()\n",
    "except Exception as e:\n",
    "    print(e)"
   ]
  }
 ],
 "metadata": {
  "kernelspec": {
   "display_name": ".venv",
   "language": "python",
   "name": "python3"
  },
  "language_info": {
   "codemirror_mode": {
    "name": "ipython",
    "version": 3
   },
   "file_extension": ".py",
   "mimetype": "text/x-python",
   "name": "python",
   "nbconvert_exporter": "python",
   "pygments_lexer": "ipython3",
   "version": "3.12.9"
  }
 },
 "nbformat": 4,
 "nbformat_minor": 5
}
