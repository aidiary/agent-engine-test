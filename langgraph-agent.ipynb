{
 "cells": [
  {
   "cell_type": "markdown",
   "id": "0898f112",
   "metadata": {},
   "source": [
    "# Develop a LangGraph Agent\n",
    "\n",
    "- 任意の LangGraph エージェントを AgentEngine でラップする\n",
    "- https://cloud.google.com/vertex-ai/generative-ai/docs/agent-engine/develop/langgraph#langgraph\n"
   ]
  },
  {
   "cell_type": "code",
   "execution_count": 13,
   "id": "7eafd435",
   "metadata": {},
   "outputs": [
    {
     "data": {
      "text/plain": [
       "True"
      ]
     },
     "execution_count": 13,
     "metadata": {},
     "output_type": "execute_result"
    }
   ],
   "source": [
    "from dotenv import load_dotenv, find_dotenv\n",
    "\n",
    "load_dotenv(find_dotenv())"
   ]
  },
  {
   "cell_type": "code",
   "execution_count": 14,
   "id": "67fb0bb2",
   "metadata": {},
   "outputs": [
    {
     "data": {
      "text/plain": [
       "'/home/mori/.gcloud/agent-engine-test-461308-a2228f8932d9.json'"
      ]
     },
     "execution_count": 14,
     "metadata": {},
     "output_type": "execute_result"
    }
   ],
   "source": [
    "import os\n",
    "\n",
    "os.environ[\"GOOGLE_APPLICATION_CREDENTIALS\"]"
   ]
  },
  {
   "cell_type": "markdown",
   "id": "1454b973",
   "metadata": {},
   "source": [
    "## Vertex AI の初期化\n"
   ]
  },
  {
   "cell_type": "code",
   "execution_count": 4,
   "id": "a6f3a732",
   "metadata": {},
   "outputs": [],
   "source": [
    "import vertexai\n",
    "\n",
    "vertexai.init(\n",
    "    project=\"agent-engine-test-461308\",\n",
    "    location=\"us-central1\",  # Agent Engine にデプロイするときに使用する Bucket\n",
    "    staging_bucket=\"gs://agent-engine-test-250529\",\n",
    ")"
   ]
  },
  {
   "cell_type": "markdown",
   "id": "cfab150b",
   "metadata": {},
   "source": [
    "## LangGraph エージェントを構成する\n",
    "\n",
    "- シンプルな build 済みの create_react_agent を利用\n",
    "- langgraph_builder で囲む\n",
    "- https://langchain-ai.github.io/langgraph/agents/agents/\n"
   ]
  },
  {
   "cell_type": "code",
   "execution_count": 11,
   "id": "01c0490b",
   "metadata": {},
   "outputs": [],
   "source": [
    "from langgraph.prebuilt import create_react_agent\n",
    "\n",
    "\n",
    "def get_weather(city: str) -> str:\n",
    "    \"\"\"Get weather for a given city.\"\"\"\n",
    "    return f\"It's always sunny in {city}!\"\n",
    "\n",
    "\n",
    "def langgraph_builder(model, *, tools, **kwargs):\n",
    "    # LanggraphAgentで渡されるmodelやtoolsを利用してReActエージェントを作成\n",
    "    return create_react_agent(\n",
    "        model=model,\n",
    "        tools=tools,\n",
    "    )"
   ]
  },
  {
   "cell_type": "markdown",
   "id": "bd73b56a",
   "metadata": {},
   "source": [
    "## ローカルでエージェントを起動する\n"
   ]
  },
  {
   "cell_type": "code",
   "execution_count": 7,
   "id": "25f585c9",
   "metadata": {},
   "outputs": [],
   "source": [
    "from vertexai import agent_engines\n",
    "\n",
    "# Geminiを使う場合\n",
    "agent = agent_engines.LanggraphAgent(\n",
    "    model=\"gemini-2.0-flash-lite-001\",  # usでしか使えない\n",
    "    tools=[get_weather],\n",
    "    runnable_builder=langgraph_builder,\n",
    ")"
   ]
  },
  {
   "cell_type": "code",
   "execution_count": null,
   "id": "b0ab0eb3",
   "metadata": {},
   "outputs": [],
   "source": [
    "# OpenAIを使う場合\n",
    "# from langchain_openai import ChatOpenAI\n",
    "\n",
    "\n",
    "# def model_builder(*, model_name, model_kwargs=None, **kwargs):\n",
    "#     return ChatOpenAI(model=model_name, **model_kwargs)\n",
    "\n",
    "\n",
    "# agent = agent_engines.LanggraphAgent(\n",
    "#     model=\"gpt-4.1-mini\",\n",
    "#     model_builder=model_builder,\n",
    "#     tools=[get_weather],\n",
    "#     runnable_builder=langgraph_builder,\n",
    "#     model_kwargs={\n",
    "#         \"api_key\": os.environ[\"OPENAI_API_KEY\"],\n",
    "#         \"temperature\": 0,\n",
    "#     },\n",
    "# )"
   ]
  },
  {
   "cell_type": "code",
   "execution_count": 21,
   "id": "1f3bcd59",
   "metadata": {},
   "outputs": [
    {
     "data": {
      "text/plain": [
       "{'messages': [{'lc': 1,\n",
       "   'type': 'constructor',\n",
       "   'id': ['langchain', 'schema', 'messages', 'HumanMessage'],\n",
       "   'kwargs': {'content': 'やあ',\n",
       "    'type': 'human',\n",
       "    'id': 'd790424c-49d3-4afe-ad8a-c5104823eac0'}},\n",
       "  {'lc': 1,\n",
       "   'type': 'constructor',\n",
       "   'id': ['langchain', 'schema', 'messages', 'AIMessage'],\n",
       "   'kwargs': {'content': 'こんにちは！何かお手伝いできることはありますか？\\n',\n",
       "    'response_metadata': {'is_blocked': False,\n",
       "     'safety_ratings': [],\n",
       "     'usage_metadata': {'prompt_token_count': 16,\n",
       "      'candidates_token_count': 11,\n",
       "      'total_token_count': 27,\n",
       "      'prompt_tokens_details': [{'modality': 1, 'token_count': 16}],\n",
       "      'candidates_tokens_details': [{'modality': 1, 'token_count': 11}],\n",
       "      'thoughts_token_count': 0,\n",
       "      'cached_content_token_count': 0,\n",
       "      'cache_tokens_details': []},\n",
       "     'finish_reason': 'STOP',\n",
       "     'avg_logprobs': -0.03513369506055659,\n",
       "     'model_name': 'gemini-2.0-flash-lite-001'},\n",
       "    'type': 'ai',\n",
       "    'id': 'run--134fdc22-9276-482d-85e9-5688da74e15c-0',\n",
       "    'usage_metadata': {'input_tokens': 16,\n",
       "     'output_tokens': 11,\n",
       "     'total_tokens': 27},\n",
       "    'tool_calls': [],\n",
       "    'invalid_tool_calls': []}}]}"
      ]
     },
     "execution_count": 21,
     "metadata": {},
     "output_type": "execute_result"
    }
   ],
   "source": [
    "# シンプルなクエリ\n",
    "response = agent.query(\n",
    "    input={\"messages\": [(\"user\", \"やあ\")]},\n",
    ")\n",
    "response"
   ]
  },
  {
   "cell_type": "code",
   "execution_count": 22,
   "id": "431f73bf",
   "metadata": {},
   "outputs": [
    {
     "data": {
      "text/plain": [
       "{'messages': [{'lc': 1,\n",
       "   'type': 'constructor',\n",
       "   'id': ['langchain', 'schema', 'messages', 'HumanMessage'],\n",
       "   'kwargs': {'content': '今日の東京の天気は？',\n",
       "    'type': 'human',\n",
       "    'id': '45657b9a-dcea-4302-b432-b1bbe3761343'}},\n",
       "  {'lc': 1,\n",
       "   'type': 'constructor',\n",
       "   'id': ['langchain', 'schema', 'messages', 'AIMessage'],\n",
       "   'kwargs': {'content': '',\n",
       "    'additional_kwargs': {'function_call': {'name': 'get_weather',\n",
       "      'arguments': '{\"city\": \"\\\\u6771\\\\u4eac\"}'}},\n",
       "    'response_metadata': {'is_blocked': False,\n",
       "     'safety_ratings': [],\n",
       "     'usage_metadata': {'prompt_token_count': 20,\n",
       "      'candidates_token_count': 5,\n",
       "      'total_token_count': 25,\n",
       "      'prompt_tokens_details': [{'modality': 1, 'token_count': 20}],\n",
       "      'candidates_tokens_details': [{'modality': 1, 'token_count': 5}],\n",
       "      'thoughts_token_count': 0,\n",
       "      'cached_content_token_count': 0,\n",
       "      'cache_tokens_details': []},\n",
       "     'finish_reason': 'STOP',\n",
       "     'avg_logprobs': -0.00016216778894886374,\n",
       "     'model_name': 'gemini-2.0-flash-lite-001'},\n",
       "    'type': 'ai',\n",
       "    'id': 'run--31871fec-8386-4c3d-8fa4-f0edec2d21e9-0',\n",
       "    'tool_calls': [{'name': 'get_weather',\n",
       "      'args': {'city': '東京'},\n",
       "      'id': 'e4116fa4-bb98-4c41-a2bc-bdf5bcefe4f5',\n",
       "      'type': 'tool_call'}],\n",
       "    'usage_metadata': {'input_tokens': 20,\n",
       "     'output_tokens': 5,\n",
       "     'total_tokens': 25},\n",
       "    'invalid_tool_calls': []}},\n",
       "  {'lc': 1,\n",
       "   'type': 'constructor',\n",
       "   'id': ['langchain', 'schema', 'messages', 'ToolMessage'],\n",
       "   'kwargs': {'content': \"It's always sunny in 東京!\",\n",
       "    'type': 'tool',\n",
       "    'name': 'get_weather',\n",
       "    'id': '8404b1dd-755b-44b0-9f04-0fff8a755431',\n",
       "    'tool_call_id': 'e4116fa4-bb98-4c41-a2bc-bdf5bcefe4f5',\n",
       "    'status': 'success'}},\n",
       "  {'lc': 1,\n",
       "   'type': 'constructor',\n",
       "   'id': ['langchain', 'schema', 'messages', 'AIMessage'],\n",
       "   'kwargs': {'content': '今日の東京の天気はいつも晴れです！',\n",
       "    'response_metadata': {'is_blocked': False,\n",
       "     'safety_ratings': [],\n",
       "     'usage_metadata': {'prompt_token_count': 37,\n",
       "      'candidates_token_count': 9,\n",
       "      'total_token_count': 46,\n",
       "      'prompt_tokens_details': [{'modality': 1, 'token_count': 37}],\n",
       "      'candidates_tokens_details': [{'modality': 1, 'token_count': 9}],\n",
       "      'thoughts_token_count': 0,\n",
       "      'cached_content_token_count': 0,\n",
       "      'cache_tokens_details': []},\n",
       "     'finish_reason': 'STOP',\n",
       "     'avg_logprobs': -0.07807927661471897,\n",
       "     'model_name': 'gemini-2.0-flash-lite-001'},\n",
       "    'type': 'ai',\n",
       "    'id': 'run--107712dc-9f89-439b-aca3-0457a6007ed8-0',\n",
       "    'usage_metadata': {'input_tokens': 37,\n",
       "     'output_tokens': 9,\n",
       "     'total_tokens': 46},\n",
       "    'tool_calls': [],\n",
       "    'invalid_tool_calls': []}}]}"
      ]
     },
     "execution_count": 22,
     "metadata": {},
     "output_type": "execute_result"
    }
   ],
   "source": [
    "# ツール利用\n",
    "response = agent.query(\n",
    "    input={\"messages\": [(\"user\", \"今日の東京の天気は？\")]},\n",
    ")\n",
    "response"
   ]
  },
  {
   "cell_type": "code",
   "execution_count": 23,
   "id": "9edf72fc",
   "metadata": {},
   "outputs": [
    {
     "name": "stdout",
     "output_type": "stream",
     "text": [
      "{'agent': {'messages': [{'lc': 1, 'type': 'constructor', 'id': ['langchain', 'schema', 'messages', 'AIMessage'], 'kwargs': {'content': '', 'additional_kwargs': {'function_call': {'name': 'get_weather', 'arguments': '{\"city\": \"\\\\u6771\\\\u4eac\"}'}}, 'response_metadata': {'is_blocked': False, 'safety_ratings': [], 'usage_metadata': {'prompt_token_count': 20, 'candidates_token_count': 5, 'total_token_count': 25, 'prompt_tokens_details': [{'modality': 1, 'token_count': 20}], 'candidates_tokens_details': [{'modality': 1, 'token_count': 5}], 'thoughts_token_count': 0, 'cached_content_token_count': 0, 'cache_tokens_details': []}, 'finish_reason': 'STOP', 'avg_logprobs': -0.00017849390860646963, 'model_name': 'gemini-2.0-flash-lite-001'}, 'type': 'ai', 'id': 'run--65532000-a1b5-467b-961e-e7b6f0ff1396-0', 'tool_calls': [{'name': 'get_weather', 'args': {'city': '東京'}, 'id': '79b30c20-e217-43ec-831b-9364cfd58a28', 'type': 'tool_call'}], 'usage_metadata': {'input_tokens': 20, 'output_tokens': 5, 'total_tokens': 25}, 'invalid_tool_calls': []}}]}}\n",
      "====================================================================================================\n",
      "{'tools': {'messages': [{'lc': 1, 'type': 'constructor', 'id': ['langchain', 'schema', 'messages', 'ToolMessage'], 'kwargs': {'content': \"It's always sunny in 東京!\", 'type': 'tool', 'name': 'get_weather', 'id': '4ebd39d3-c991-42e7-abe6-f10131d8f9f1', 'tool_call_id': '79b30c20-e217-43ec-831b-9364cfd58a28', 'status': 'success'}}]}}\n",
      "====================================================================================================\n",
      "{'agent': {'messages': [{'lc': 1, 'type': 'constructor', 'id': ['langchain', 'schema', 'messages', 'AIMessage'], 'kwargs': {'content': '今日の東京の天気はいつも晴れです！', 'response_metadata': {'is_blocked': False, 'safety_ratings': [], 'usage_metadata': {'prompt_token_count': 37, 'candidates_token_count': 9, 'total_token_count': 46, 'prompt_tokens_details': [{'modality': 1, 'token_count': 37}], 'candidates_tokens_details': [{'modality': 1, 'token_count': 9}], 'thoughts_token_count': 0, 'cached_content_token_count': 0, 'cache_tokens_details': []}, 'finish_reason': 'STOP', 'avg_logprobs': -0.07807927661471897, 'model_name': 'gemini-2.0-flash-lite-001'}, 'type': 'ai', 'id': 'run--0d20e067-8592-47d0-b5c7-ba501eb9e508-0', 'usage_metadata': {'input_tokens': 37, 'output_tokens': 9, 'total_tokens': 46}, 'tool_calls': [], 'invalid_tool_calls': []}}]}}\n",
      "====================================================================================================\n"
     ]
    }
   ],
   "source": [
    "# イベントのストリーム表示\n",
    "for chunk in agent.stream_query(\n",
    "    input={\"messages\": [(\"user\", \"今日の東京の天気は？\")]},\n",
    "):\n",
    "    print(chunk)\n",
    "    print(\"=\" * 100)"
   ]
  },
  {
   "cell_type": "code",
   "execution_count": 24,
   "id": "67469438",
   "metadata": {},
   "outputs": [
    {
     "name": "stdout",
     "output_type": "stream",
     "text": [
      "['messages', [{'lc': 1, 'type': 'constructor', 'id': ['langchain', 'schema', 'messages', 'AIMessageChunk'], 'kwargs': {'content': '', 'additional_kwargs': {'function_call': {'name': 'get_weather', 'arguments': '{\"city\": \"\\\\u6771\\\\u4eac\"}'}}, 'response_metadata': {'safety_ratings': [], 'usage_metadata': {}, 'finish_reason': 'STOP', 'model_name': 'gemini-2.0-flash-lite-001'}, 'type': 'AIMessageChunk', 'id': 'run--6d5b1d37-370f-4d5c-84f4-e96f200742d4', 'tool_calls': [{'name': 'get_weather', 'args': {'city': '東京'}, 'id': 'e6a9cc89-50c4-476e-9882-aa16c5bae300', 'type': 'tool_call'}], 'usage_metadata': {'input_tokens': 20, 'output_tokens': 5, 'total_tokens': 25}, 'tool_call_chunks': [{'name': 'get_weather', 'args': '{\"city\": \"\\\\u6771\\\\u4eac\"}', 'id': 'e6a9cc89-50c4-476e-9882-aa16c5bae300', 'index': None, 'type': 'tool_call_chunk'}], 'invalid_tool_calls': []}}, {'langgraph_step': 1, 'langgraph_node': 'agent', 'langgraph_triggers': ['branch:to:agent'], 'langgraph_path': ['__pregel_pull', 'agent'], 'langgraph_checkpoint_ns': 'agent:880a2b16-00b1-3b42-3d58-7ac18c467b83', 'checkpoint_ns': 'agent:880a2b16-00b1-3b42-3d58-7ac18c467b83', 'ls_provider': 'google_vertexai', 'ls_model_name': 'gemini-2.0-flash-lite-001', 'ls_model_type': 'chat', 'ls_temperature': None}]]\n",
      "====================================================================================================\n",
      "['updates', {'agent': {'messages': [{'lc': 1, 'type': 'constructor', 'id': ['langchain', 'schema', 'messages', 'AIMessage'], 'kwargs': {'content': '', 'additional_kwargs': {'function_call': {'name': 'get_weather', 'arguments': '{\"city\": \"\\\\u6771\\\\u4eac\"}'}}, 'response_metadata': {'safety_ratings': [], 'usage_metadata': {}, 'finish_reason': 'STOP', 'model_name': 'gemini-2.0-flash-lite-001'}, 'type': 'ai', 'id': 'run--6d5b1d37-370f-4d5c-84f4-e96f200742d4', 'tool_calls': [{'name': 'get_weather', 'args': {'city': '東京'}, 'id': 'e6a9cc89-50c4-476e-9882-aa16c5bae300', 'type': 'tool_call'}], 'usage_metadata': {'input_tokens': 20, 'output_tokens': 5, 'total_tokens': 25}, 'invalid_tool_calls': []}}]}}]\n",
      "====================================================================================================\n",
      "['messages', [{'lc': 1, 'type': 'constructor', 'id': ['langchain', 'schema', 'messages', 'ToolMessage'], 'kwargs': {'content': \"It's always sunny in 東京!\", 'type': 'tool', 'name': 'get_weather', 'id': '38b9839e-ee12-4c82-97c7-68f5c7681a4c', 'tool_call_id': 'e6a9cc89-50c4-476e-9882-aa16c5bae300', 'status': 'success'}}, {'langgraph_step': 2, 'langgraph_node': 'tools', 'langgraph_triggers': ['branch:to:tools'], 'langgraph_path': ['__pregel_pull', 'tools'], 'langgraph_checkpoint_ns': 'tools:070b7e70-3bc6-3fa6-fc75-376dc4a7770a'}]]\n",
      "====================================================================================================\n",
      "['updates', {'tools': {'messages': [{'lc': 1, 'type': 'constructor', 'id': ['langchain', 'schema', 'messages', 'ToolMessage'], 'kwargs': {'content': \"It's always sunny in 東京!\", 'type': 'tool', 'name': 'get_weather', 'id': '38b9839e-ee12-4c82-97c7-68f5c7681a4c', 'tool_call_id': 'e6a9cc89-50c4-476e-9882-aa16c5bae300', 'status': 'success'}}]}}]\n",
      "====================================================================================================\n",
      "['messages', [{'lc': 1, 'type': 'constructor', 'id': ['langchain', 'schema', 'messages', 'AIMessageChunk'], 'kwargs': {'content': '今日の', 'response_metadata': {'safety_ratings': [], 'usage_metadata': {}}, 'type': 'AIMessageChunk', 'id': 'run--39843192-3f32-4ef6-9282-a1f48f680723', 'tool_calls': [], 'invalid_tool_calls': []}}, {'langgraph_step': 3, 'langgraph_node': 'agent', 'langgraph_triggers': ['branch:to:agent'], 'langgraph_path': ['__pregel_pull', 'agent'], 'langgraph_checkpoint_ns': 'agent:57e15fe3-67bf-c8e1-8e9c-790a91e156c2', 'checkpoint_ns': 'agent:57e15fe3-67bf-c8e1-8e9c-790a91e156c2', 'ls_provider': 'google_vertexai', 'ls_model_name': 'gemini-2.0-flash-lite-001', 'ls_model_type': 'chat', 'ls_temperature': None}]]\n",
      "====================================================================================================\n",
      "['messages', [{'lc': 1, 'type': 'constructor', 'id': ['langchain', 'schema', 'messages', 'AIMessageChunk'], 'kwargs': {'content': '東京は晴れです！', 'response_metadata': {'safety_ratings': [], 'usage_metadata': {}, 'finish_reason': 'STOP', 'model_name': 'gemini-2.0-flash-lite-001'}, 'type': 'AIMessageChunk', 'id': 'run--39843192-3f32-4ef6-9282-a1f48f680723', 'usage_metadata': {'input_tokens': 37, 'output_tokens': 6, 'total_tokens': 43}, 'tool_calls': [], 'invalid_tool_calls': []}}, {'langgraph_step': 3, 'langgraph_node': 'agent', 'langgraph_triggers': ['branch:to:agent'], 'langgraph_path': ['__pregel_pull', 'agent'], 'langgraph_checkpoint_ns': 'agent:57e15fe3-67bf-c8e1-8e9c-790a91e156c2', 'checkpoint_ns': 'agent:57e15fe3-67bf-c8e1-8e9c-790a91e156c2', 'ls_provider': 'google_vertexai', 'ls_model_name': 'gemini-2.0-flash-lite-001', 'ls_model_type': 'chat', 'ls_temperature': None}]]\n",
      "====================================================================================================\n",
      "['updates', {'agent': {'messages': [{'lc': 1, 'type': 'constructor', 'id': ['langchain', 'schema', 'messages', 'AIMessage'], 'kwargs': {'content': '今日の東京は晴れです！', 'response_metadata': {'safety_ratings': [], 'usage_metadata': {}, 'finish_reason': 'STOP', 'model_name': 'gemini-2.0-flash-lite-001'}, 'type': 'ai', 'id': 'run--39843192-3f32-4ef6-9282-a1f48f680723', 'usage_metadata': {'input_tokens': 37, 'output_tokens': 6, 'total_tokens': 43}, 'tool_calls': [], 'invalid_tool_calls': []}}]}}]\n",
      "====================================================================================================\n"
     ]
    }
   ],
   "source": [
    "# トークンのストリーム表示\n",
    "for chunk in agent.stream_query(\n",
    "    input={\"messages\": [(\"user\", \"今日の東京の天気は？\")]},\n",
    "    stream_mode=[\"updates\", \"messages\"],\n",
    "):\n",
    "    print(chunk)\n",
    "    print(\"=\" * 100)"
   ]
  },
  {
   "cell_type": "markdown",
   "id": "c30427e8",
   "metadata": {},
   "source": [
    "## エージェントのデプロイ\n",
    "\n",
    "- IAM ロール `ストレージ管理者` を追加する\n"
   ]
  },
  {
   "cell_type": "code",
   "execution_count": 15,
   "id": "68ccfdfa",
   "metadata": {},
   "outputs": [
    {
     "name": "stdout",
     "output_type": "stream",
     "text": [
      "Using bucket agent-engine-test-250529\n",
      "Writing to gs://agent-engine-test-250529/reasoning_engine/reasoning_engine.pkl\n",
      "Writing to gs://agent-engine-test-250529/reasoning_engine/requirements.txt\n",
      "Creating in-memory tarfile of extra_packages\n",
      "Writing to gs://agent-engine-test-250529/reasoning_engine/dependencies.tar.gz\n",
      "Creating ReasoningEngine\n",
      "Create ReasoningEngine backing LRO: projects/714913803218/locations/us-central1/reasoningEngines/8888038582569140224/operations/3442924227756294144\n",
      "ReasoningEngine created. Resource name: projects/714913803218/locations/us-central1/reasoningEngines/8888038582569140224\n",
      "To use this ReasoningEngine in another session:\n",
      "reasoning_engine = vertexai.preview.reasoning_engines.ReasoningEngine('projects/714913803218/locations/us-central1/reasoningEngines/8888038582569140224')\n"
     ]
    }
   ],
   "source": [
    "from vertexai.preview.reasoning_engines import ReasoningEngine\n",
    "\n",
    "remote_agent = ReasoningEngine.create(\n",
    "    agent,\n",
    "    requirements=[\n",
    "        \"google-cloud-aiplatform[agent_engines,langchain]\",\n",
    "        \"cloudpickle\",\n",
    "        \"langgraph\",\n",
    "        \"pydantic\",\n",
    "        \"langchain-openai\",\n",
    "    ],\n",
    "    display_name=\"Simple ReAct Agent\",\n",
    "    description=\"A simple ReAct agent with LangGraph\",\n",
    "    extra_packages=[],\n",
    ")"
   ]
  },
  {
   "cell_type": "markdown",
   "id": "dccdf48e",
   "metadata": {},
   "source": [
    "# デプロイしたエージェントを確認する\n"
   ]
  },
  {
   "cell_type": "code",
   "execution_count": 16,
   "id": "24ede59c",
   "metadata": {},
   "outputs": [
    {
     "name": "stdout",
     "output_type": "stream",
     "text": [
      "<vertexai.agent_engines._agent_engines.AgentEngine object at 0x720ce0e6b990> \n",
      "resource name: projects/714913803218/locations/us-central1/reasoningEngines/8888038582569140224\n"
     ]
    }
   ],
   "source": [
    "from vertexai import agent_engines\n",
    "\n",
    "for resource in agent_engines.list():\n",
    "    print(resource)"
   ]
  },
  {
   "cell_type": "markdown",
   "id": "fa31f3d4",
   "metadata": {},
   "source": [
    "# デプロイしたエージェントを使用する\n"
   ]
  },
  {
   "cell_type": "code",
   "execution_count": 17,
   "id": "ecf98e6a",
   "metadata": {},
   "outputs": [],
   "source": [
    "remote_agent = agent_engines.get(\n",
    "    \"projects/714913803218/locations/us-central1/reasoningEngines/8888038582569140224\"\n",
    ")"
   ]
  },
  {
   "cell_type": "code",
   "execution_count": 18,
   "id": "8fe076c4",
   "metadata": {},
   "outputs": [
    {
     "data": {
      "text/plain": [
       "{'messages': [{'kwargs': {'content': 'やあ',\n",
       "    'type': 'human',\n",
       "    'id': '1ad1ceeb-d383-4482-8e09-596699e25cb5'},\n",
       "   'type': 'constructor',\n",
       "   'id': ['langchain', 'schema', 'messages', 'HumanMessage'],\n",
       "   'lc': 1.0},\n",
       "  {'kwargs': {'content': 'こんにちは！何かお手伝いできることはありますか？\\n',\n",
       "    'tool_calls': [],\n",
       "    'type': 'ai',\n",
       "    'id': 'run--1af04432-1c92-470b-8dfe-394d458fec5f-0',\n",
       "    'response_metadata': {'safety_ratings': [],\n",
       "     'finish_reason': 'STOP',\n",
       "     'avg_logprobs': -0.03513369506055659,\n",
       "     'usage_metadata': {'prompt_tokens_details': [{'modality': 1.0,\n",
       "        'token_count': 16.0}],\n",
       "      'total_token_count': 27.0,\n",
       "      'cache_tokens_details': [],\n",
       "      'candidates_tokens_details': [{'modality': 1.0, 'token_count': 11.0}],\n",
       "      'cached_content_token_count': 0.0,\n",
       "      'prompt_token_count': 16.0,\n",
       "      'candidates_token_count': 11.0,\n",
       "      'thoughts_token_count': 0.0},\n",
       "     'is_blocked': False,\n",
       "     'model_name': 'gemini-2.0-flash-lite-001'},\n",
       "    'usage_metadata': {'output_tokens': 11.0,\n",
       "     'total_tokens': 27.0,\n",
       "     'input_tokens': 16.0},\n",
       "    'invalid_tool_calls': []},\n",
       "   'type': 'constructor',\n",
       "   'id': ['langchain', 'schema', 'messages', 'AIMessage'],\n",
       "   'lc': 1.0}]}"
      ]
     },
     "execution_count": 18,
     "metadata": {},
     "output_type": "execute_result"
    }
   ],
   "source": [
    "# シンプルなクエリ\n",
    "response = remote_agent.query(\n",
    "    input={\"messages\": [(\"user\", \"やあ\")]},\n",
    ")\n",
    "response"
   ]
  },
  {
   "cell_type": "code",
   "execution_count": 19,
   "id": "7230fadc",
   "metadata": {},
   "outputs": [
    {
     "data": {
      "text/plain": [
       "{'messages': [{'kwargs': {'content': '今日の東京の天気は？',\n",
       "    'type': 'human',\n",
       "    'id': 'ad60eb97-f9f0-4df0-adef-2ead175e6d1a'},\n",
       "   'type': 'constructor',\n",
       "   'id': ['langchain', 'schema', 'messages', 'HumanMessage'],\n",
       "   'lc': 1.0},\n",
       "  {'kwargs': {'content': '',\n",
       "    'tool_calls': [{'type': 'tool_call',\n",
       "      'args': {'city': '東京'},\n",
       "      'id': '664eed58-846f-4fec-8c31-dc15408336e7',\n",
       "      'name': 'get_weather'}],\n",
       "    'type': 'ai',\n",
       "    'id': 'run--87038fc5-aa06-4d07-baf1-fe0d6bf3cf25-0',\n",
       "    'response_metadata': {'safety_ratings': [],\n",
       "     'finish_reason': 'STOP',\n",
       "     'avg_logprobs': -0.00016216778894886374,\n",
       "     'usage_metadata': {'prompt_tokens_details': [{'modality': 1.0,\n",
       "        'token_count': 20.0}],\n",
       "      'total_token_count': 25.0,\n",
       "      'cache_tokens_details': [],\n",
       "      'candidates_tokens_details': [{'modality': 1.0, 'token_count': 5.0}],\n",
       "      'cached_content_token_count': 0.0,\n",
       "      'prompt_token_count': 20.0,\n",
       "      'candidates_token_count': 5.0,\n",
       "      'thoughts_token_count': 0.0},\n",
       "     'is_blocked': False,\n",
       "     'model_name': 'gemini-2.0-flash-lite-001'},\n",
       "    'additional_kwargs': {'function_call': {'arguments': '{\"city\": \"\\\\u6771\\\\u4eac\"}',\n",
       "      'name': 'get_weather'}},\n",
       "    'usage_metadata': {'output_tokens': 5.0,\n",
       "     'total_tokens': 25.0,\n",
       "     'input_tokens': 20.0},\n",
       "    'invalid_tool_calls': []},\n",
       "   'type': 'constructor',\n",
       "   'id': ['langchain', 'schema', 'messages', 'AIMessage'],\n",
       "   'lc': 1.0},\n",
       "  {'kwargs': {'tool_call_id': '664eed58-846f-4fec-8c31-dc15408336e7',\n",
       "    'content': \"It's always sunny in 東京!\",\n",
       "    'type': 'tool',\n",
       "    'status': 'success',\n",
       "    'id': '73b7afd8-7a41-4c20-817c-0d6b3af79b10',\n",
       "    'name': 'get_weather'},\n",
       "   'type': 'constructor',\n",
       "   'id': ['langchain', 'schema', 'messages', 'ToolMessage'],\n",
       "   'lc': 1.0},\n",
       "  {'kwargs': {'content': '今日の東京の天気はいつも晴れです！\\n',\n",
       "    'tool_calls': [],\n",
       "    'type': 'ai',\n",
       "    'id': 'run--1821b82e-4b27-4157-b1b1-91f0f0ca678b-0',\n",
       "    'response_metadata': {'safety_ratings': [],\n",
       "     'finish_reason': 'STOP',\n",
       "     'usage_metadata': {'prompt_tokens_details': [{'modality': 1.0,\n",
       "        'token_count': 37.0}],\n",
       "      'total_token_count': 47.0,\n",
       "      'cache_tokens_details': [],\n",
       "      'candidates_tokens_details': [{'modality': 1.0, 'token_count': 10.0}],\n",
       "      'cached_content_token_count': 0.0,\n",
       "      'prompt_token_count': 37.0,\n",
       "      'candidates_token_count': 10.0,\n",
       "      'thoughts_token_count': 0.0},\n",
       "     'avg_logprobs': -0.09107826352119446,\n",
       "     'is_blocked': False,\n",
       "     'model_name': 'gemini-2.0-flash-lite-001'},\n",
       "    'usage_metadata': {'output_tokens': 10.0,\n",
       "     'total_tokens': 47.0,\n",
       "     'input_tokens': 37.0},\n",
       "    'invalid_tool_calls': []},\n",
       "   'type': 'constructor',\n",
       "   'id': ['langchain', 'schema', 'messages', 'AIMessage'],\n",
       "   'lc': 1.0}]}"
      ]
     },
     "execution_count": 19,
     "metadata": {},
     "output_type": "execute_result"
    }
   ],
   "source": [
    "# ツール利用\n",
    "response = remote_agent.query(\n",
    "    input={\"messages\": [(\"user\", \"今日の東京の天気は？\")]},\n",
    ")\n",
    "response"
   ]
  },
  {
   "cell_type": "code",
   "execution_count": 21,
   "id": "f4e313e7",
   "metadata": {},
   "outputs": [
    {
     "name": "stdout",
     "output_type": "stream",
     "text": [
      "['messages', [{'lc': 1, 'type': 'constructor', 'id': ['langchain', 'schema', 'messages', 'AIMessageChunk'], 'kwargs': {'content': '', 'additional_kwargs': {'function_call': {'name': 'get_weather', 'arguments': '{\"city\": \"\\\\u6771\\\\u4eac\"}'}}, 'response_metadata': {'safety_ratings': [], 'usage_metadata': {}, 'finish_reason': 'STOP', 'model_name': 'gemini-2.0-flash-lite-001'}, 'type': 'AIMessageChunk', 'id': 'run--7db3ec2e-2389-47f8-a607-34b0b5dbc108', 'tool_calls': [{'name': 'get_weather', 'args': {'city': '東京'}, 'id': 'fcb9d4df-3768-4a2d-b3fb-5da44a79e8e9', 'type': 'tool_call'}], 'usage_metadata': {'input_tokens': 20, 'output_tokens': 5, 'total_tokens': 25}, 'tool_call_chunks': [{'name': 'get_weather', 'args': '{\"city\": \"\\\\u6771\\\\u4eac\"}', 'id': 'fcb9d4df-3768-4a2d-b3fb-5da44a79e8e9', 'index': None, 'type': 'tool_call_chunk'}], 'invalid_tool_calls': []}}, {'langgraph_step': 1, 'langgraph_node': 'agent', 'langgraph_triggers': ['branch:to:agent'], 'langgraph_path': ['__pregel_pull', 'agent'], 'langgraph_checkpoint_ns': 'agent:f6fa3074-521c-e6c1-b8ca-989d6c45d34d', 'checkpoint_ns': 'agent:f6fa3074-521c-e6c1-b8ca-989d6c45d34d', 'ls_provider': 'google_vertexai', 'ls_model_name': 'gemini-2.0-flash-lite-001', 'ls_model_type': 'chat', 'ls_temperature': None}]]\n",
      "====================================================================================================\n",
      "['updates', {'agent': {'messages': [{'lc': 1, 'type': 'constructor', 'id': ['langchain', 'schema', 'messages', 'AIMessage'], 'kwargs': {'content': '', 'additional_kwargs': {'function_call': {'name': 'get_weather', 'arguments': '{\"city\": \"\\\\u6771\\\\u4eac\"}'}}, 'response_metadata': {'safety_ratings': [], 'usage_metadata': {}, 'finish_reason': 'STOP', 'model_name': 'gemini-2.0-flash-lite-001'}, 'type': 'ai', 'id': 'run--7db3ec2e-2389-47f8-a607-34b0b5dbc108', 'tool_calls': [{'name': 'get_weather', 'args': {'city': '東京'}, 'id': 'fcb9d4df-3768-4a2d-b3fb-5da44a79e8e9', 'type': 'tool_call'}], 'usage_metadata': {'input_tokens': 20, 'output_tokens': 5, 'total_tokens': 25}, 'invalid_tool_calls': []}}]}}]\n",
      "====================================================================================================\n",
      "['messages', [{'lc': 1, 'type': 'constructor', 'id': ['langchain', 'schema', 'messages', 'ToolMessage'], 'kwargs': {'content': \"It's always sunny in 東京!\", 'type': 'tool', 'name': 'get_weather', 'id': '0f2aeb4e-38ed-4200-8e46-a1b010282235', 'tool_call_id': 'fcb9d4df-3768-4a2d-b3fb-5da44a79e8e9', 'status': 'success'}}, {'langgraph_step': 2, 'langgraph_node': 'tools', 'langgraph_triggers': ['branch:to:tools'], 'langgraph_path': ['__pregel_pull', 'tools'], 'langgraph_checkpoint_ns': 'tools:9ffd42b2-d72a-6161-84ee-46168e5f9a22'}]]\n",
      "====================================================================================================\n",
      "['updates', {'tools': {'messages': [{'lc': 1, 'type': 'constructor', 'id': ['langchain', 'schema', 'messages', 'ToolMessage'], 'kwargs': {'content': \"It's always sunny in 東京!\", 'type': 'tool', 'name': 'get_weather', 'id': '0f2aeb4e-38ed-4200-8e46-a1b010282235', 'tool_call_id': 'fcb9d4df-3768-4a2d-b3fb-5da44a79e8e9', 'status': 'success'}}]}}]\n",
      "====================================================================================================\n",
      "['messages', [{'lc': 1, 'type': 'constructor', 'id': ['langchain', 'schema', 'messages', 'AIMessageChunk'], 'kwargs': {'content': '今日の', 'response_metadata': {'safety_ratings': [], 'usage_metadata': {}}, 'type': 'AIMessageChunk', 'id': 'run--405e695d-f1ec-4c87-ac51-4c394b538302', 'tool_calls': [], 'invalid_tool_calls': []}}, {'langgraph_step': 3, 'langgraph_node': 'agent', 'langgraph_triggers': ['branch:to:agent'], 'langgraph_path': ['__pregel_pull', 'agent'], 'langgraph_checkpoint_ns': 'agent:7cdf2a7f-edef-4ac2-e1f0-2f8d64d93d0f', 'checkpoint_ns': 'agent:7cdf2a7f-edef-4ac2-e1f0-2f8d64d93d0f', 'ls_provider': 'google_vertexai', 'ls_model_name': 'gemini-2.0-flash-lite-001', 'ls_model_type': 'chat', 'ls_temperature': None}]]\n",
      "====================================================================================================\n",
      "['messages', [{'lc': 1, 'type': 'constructor', 'id': ['langchain', 'schema', 'messages', 'AIMessageChunk'], 'kwargs': {'content': '東京はいつも晴れです！\\n', 'response_metadata': {'safety_ratings': [], 'usage_metadata': {}, 'finish_reason': 'STOP', 'model_name': 'gemini-2.0-flash-lite-001'}, 'type': 'AIMessageChunk', 'id': 'run--405e695d-f1ec-4c87-ac51-4c394b538302', 'usage_metadata': {'input_tokens': 37, 'output_tokens': 8, 'total_tokens': 45}, 'tool_calls': [], 'invalid_tool_calls': []}}, {'langgraph_step': 3, 'langgraph_node': 'agent', 'langgraph_triggers': ['branch:to:agent'], 'langgraph_path': ['__pregel_pull', 'agent'], 'langgraph_checkpoint_ns': 'agent:7cdf2a7f-edef-4ac2-e1f0-2f8d64d93d0f', 'checkpoint_ns': 'agent:7cdf2a7f-edef-4ac2-e1f0-2f8d64d93d0f', 'ls_provider': 'google_vertexai', 'ls_model_name': 'gemini-2.0-flash-lite-001', 'ls_model_type': 'chat', 'ls_temperature': None}]]\n",
      "====================================================================================================\n",
      "['updates', {'agent': {'messages': [{'lc': 1, 'type': 'constructor', 'id': ['langchain', 'schema', 'messages', 'AIMessage'], 'kwargs': {'content': '今日の東京はいつも晴れです！\\n', 'response_metadata': {'safety_ratings': [], 'usage_metadata': {}, 'finish_reason': 'STOP', 'model_name': 'gemini-2.0-flash-lite-001'}, 'type': 'ai', 'id': 'run--405e695d-f1ec-4c87-ac51-4c394b538302', 'usage_metadata': {'input_tokens': 37, 'output_tokens': 8, 'total_tokens': 45}, 'tool_calls': [], 'invalid_tool_calls': []}}]}}]\n",
      "====================================================================================================\n"
     ]
    }
   ],
   "source": [
    "# トークンのストリーム表示\n",
    "for chunk in remote_agent.stream_query(\n",
    "    input={\"messages\": [(\"user\", \"今日の東京の天気は？\")]},\n",
    "    stream_mode=[\"updates\", \"messages\"],\n",
    "):\n",
    "    print(chunk)\n",
    "    print(\"=\" * 100)"
   ]
  }
 ],
 "metadata": {
  "kernelspec": {
   "display_name": ".venv",
   "language": "python",
   "name": "python3"
  },
  "language_info": {
   "codemirror_mode": {
    "name": "ipython",
    "version": 3
   },
   "file_extension": ".py",
   "mimetype": "text/x-python",
   "name": "python",
   "nbconvert_exporter": "python",
   "pygments_lexer": "ipython3",
   "version": "3.11.11"
  }
 },
 "nbformat": 4,
 "nbformat_minor": 5
}
