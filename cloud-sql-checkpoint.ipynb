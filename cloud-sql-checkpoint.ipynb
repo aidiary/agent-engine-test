{
 "cells": [
  {
   "cell_type": "markdown",
   "id": "592a8b74",
   "metadata": {},
   "source": [
    "# LangGraph Checkpointer using Cloud SQL\n",
    "\n",
    "- https://github.com/googleapis/langchain-google-cloud-sql-pg-python/blob/main/docs/langgraph_checkpoint.ipynb\n"
   ]
  },
  {
   "cell_type": "code",
   "execution_count": 1,
   "id": "6435427f",
   "metadata": {},
   "outputs": [
    {
     "data": {
      "text/plain": [
       "True"
      ]
     },
     "execution_count": 1,
     "metadata": {},
     "output_type": "execute_result"
    }
   ],
   "source": [
    "from dotenv import load_dotenv, find_dotenv\n",
    "\n",
    "load_dotenv(find_dotenv())"
   ]
  },
  {
   "cell_type": "code",
   "execution_count": 2,
   "id": "0090d231",
   "metadata": {},
   "outputs": [
    {
     "data": {
      "text/plain": [
       "'/home/mori/.gcloud/agent-engine-test-461308-a2228f8932d9.json'"
      ]
     },
     "execution_count": 2,
     "metadata": {},
     "output_type": "execute_result"
    }
   ],
   "source": [
    "import os\n",
    "\n",
    "os.environ[\"GOOGLE_APPLICATION_CREDENTIALS\"]"
   ]
  },
  {
   "cell_type": "markdown",
   "id": "cbe90f8f",
   "metadata": {},
   "source": [
    "- Cloud SQL のデータベースインスタンスの設定でサービスアカウントユーザを追加する必要がある\n",
    "- IAM 認証は自動的にオンになる\n",
    "- インスタンスの編集で `接続 > Googleサービスの承認 を有効にする`、`プライベートIP接続` も有効にする必要がある\n",
    "- Cloud Shell から DB にアクセスしてサービスアカウントユーザに以下の GRANT を追加する\n",
    "\n",
    "```\n",
    "postgres=> GRANT CREATE ON SCHEMA public TO \"agent-engine-test@agent-engine-test-461308.iam\";\n",
    "postgres-> GRANT USAGE ON SCHEMA public TO \"agent-engine-test@agent-engine-test-461308.iam\";\n",
    "```\n"
   ]
  },
  {
   "cell_type": "code",
   "execution_count": 3,
   "id": "cd95dfee",
   "metadata": {},
   "outputs": [],
   "source": [
    "from langchain_google_cloud_sql_pg import PostgresEngine\n",
    "from langchain_google_cloud_sql_pg import PostgresSaver\n",
    "\n",
    "checkpointer_kwargs = {\n",
    "    \"project_id\": \"agent-engine-test-461308\",\n",
    "    \"region\": \"us-central1\",\n",
    "    \"instance\": \"agent-engine-test\",\n",
    "    \"database\": \"postgres\",\n",
    "}\n",
    "\n",
    "\n",
    "def checkpointer_builder(**kwargs):\n",
    "    engine = PostgresEngine.from_instance(**kwargs)\n",
    "    try:\n",
    "        engine.init_checkpoint_table()\n",
    "    except Exception:\n",
    "        pass\n",
    "    return PostgresSaver.create_sync(engine)"
   ]
  },
  {
   "cell_type": "code",
   "execution_count": 4,
   "id": "d36b53f5",
   "metadata": {},
   "outputs": [],
   "source": [
    "from langgraph.prebuilt import create_react_agent\n",
    "from vertexai import agent_engines\n",
    "import vertexai\n",
    "\n",
    "\n",
    "vertexai.init(\n",
    "    project=\"agent-engine-test-461308\",\n",
    "    location=\"us-central1\",  # Agent Engine にデプロイするときに使用する Bucket\n",
    "    staging_bucket=\"gs://agent-engine-test-250529\",\n",
    ")\n",
    "\n",
    "\n",
    "def get_weather(city: str) -> str:\n",
    "    \"\"\"Get weather for a given city.\"\"\"\n",
    "    return f\"It's always sunny in {city}!\"\n",
    "\n",
    "\n",
    "def langgraph_builder(model, *, tools, **kwargs):\n",
    "    # LanggraphAgentで渡されるmodelやtoolsを利用してReActエージェントを作成\n",
    "    print(\"***\", kwargs)\n",
    "    return create_react_agent(\n",
    "        model=model,\n",
    "        tools=tools,\n",
    "        checkpointer=kwargs[\"checkpointer\"],\n",
    "    )\n",
    "\n",
    "\n",
    "# Geminiを使う場合\n",
    "agent = agent_engines.LanggraphAgent(\n",
    "    model=\"gemini-2.0-flash-lite-001\",  # usでしか使えない\n",
    "    tools=[get_weather],\n",
    "    runnable_builder=langgraph_builder,\n",
    "    checkpointer_kwargs=checkpointer_kwargs,\n",
    "    checkpointer_builder=checkpointer_builder,\n",
    ")"
   ]
  },
  {
   "cell_type": "code",
   "execution_count": 10,
   "id": "da2cba75",
   "metadata": {},
   "outputs": [
    {
     "data": {
      "text/plain": [
       "{'messages': [{'lc': 1,\n",
       "   'type': 'constructor',\n",
       "   'id': ['langchain', 'schema', 'messages', 'HumanMessage'],\n",
       "   'kwargs': {'content': 'こんにちは、私の名前は森です。',\n",
       "    'type': 'human',\n",
       "    'id': '8a317377-e67d-4595-beb6-e81b19c7ad89'}},\n",
       "  {'lc': 1,\n",
       "   'type': 'constructor',\n",
       "   'id': ['langchain', 'schema', 'messages', 'AIMessage'],\n",
       "   'kwargs': {'content': 'こんにちは、森さん。何かお手伝いできることはありますか？\\n',\n",
       "    'response_metadata': {'is_blocked': False,\n",
       "     'safety_ratings': [],\n",
       "     'usage_metadata': {'prompt_token_count': 22,\n",
       "      'candidates_token_count': 14,\n",
       "      'total_token_count': 36,\n",
       "      'prompt_tokens_details': [{'modality': 1, 'token_count': 22}],\n",
       "      'candidates_tokens_details': [{'modality': 1, 'token_count': 14}],\n",
       "      'thoughts_token_count': 0,\n",
       "      'cached_content_token_count': 0,\n",
       "      'cache_tokens_details': []},\n",
       "     'finish_reason': 'STOP',\n",
       "     'avg_logprobs': -0.06304922274180821,\n",
       "     'model_name': 'gemini-2.0-flash-lite-001'},\n",
       "    'type': 'ai',\n",
       "    'id': 'run--dc5a582c-d34f-4a9c-b837-a9eb8d99c969-0',\n",
       "    'usage_metadata': {'input_tokens': 22,\n",
       "     'output_tokens': 14,\n",
       "     'total_tokens': 36},\n",
       "    'tool_calls': [],\n",
       "    'invalid_tool_calls': []}}]}"
      ]
     },
     "execution_count": 10,
     "metadata": {},
     "output_type": "execute_result"
    }
   ],
   "source": [
    "response = agent.query(\n",
    "    input={\"messages\": [(\"user\", \"こんにちは、私の名前は森です。\")]},\n",
    "    config={\n",
    "        # checkpointerを使うにはthread_idを指定する必要がある\n",
    "        \"configurable\": {\"thread_id\": \"1\"}\n",
    "    },\n",
    ")\n",
    "response"
   ]
  },
  {
   "cell_type": "code",
   "execution_count": 11,
   "id": "bbadb087",
   "metadata": {},
   "outputs": [
    {
     "data": {
      "text/plain": [
       "{'messages': [{'lc': 1,\n",
       "   'type': 'constructor',\n",
       "   'id': ['langchain', 'schema', 'messages', 'HumanMessage'],\n",
       "   'kwargs': {'content': 'こんにちは、私の名前は森です。',\n",
       "    'type': 'human',\n",
       "    'id': '8a317377-e67d-4595-beb6-e81b19c7ad89'}},\n",
       "  {'lc': 1,\n",
       "   'type': 'constructor',\n",
       "   'id': ['langchain', 'schema', 'messages', 'AIMessage'],\n",
       "   'kwargs': {'content': 'こんにちは、森さん。何かお手伝いできることはありますか？\\n',\n",
       "    'response_metadata': {'is_blocked': False,\n",
       "     'safety_ratings': [],\n",
       "     'usage_metadata': {'prompt_token_count': 22,\n",
       "      'candidates_token_count': 14,\n",
       "      'total_token_count': 36,\n",
       "      'prompt_tokens_details': [{'modality': 1, 'token_count': 22}],\n",
       "      'candidates_tokens_details': [{'modality': 1, 'token_count': 14}],\n",
       "      'thoughts_token_count': 0,\n",
       "      'cached_content_token_count': 0,\n",
       "      'cache_tokens_details': []},\n",
       "     'finish_reason': 'STOP',\n",
       "     'avg_logprobs': -0.06304922274180821,\n",
       "     'model_name': 'gemini-2.0-flash-lite-001'},\n",
       "    'type': 'ai',\n",
       "    'id': 'run--dc5a582c-d34f-4a9c-b837-a9eb8d99c969-0',\n",
       "    'usage_metadata': {'input_tokens': 22,\n",
       "     'output_tokens': 14,\n",
       "     'total_tokens': 36},\n",
       "    'tool_calls': [],\n",
       "    'invalid_tool_calls': []}},\n",
       "  {'lc': 1,\n",
       "   'type': 'constructor',\n",
       "   'id': ['langchain', 'schema', 'messages', 'HumanMessage'],\n",
       "   'kwargs': {'content': '私の名前はわかりますか？',\n",
       "    'type': 'human',\n",
       "    'id': '2a2cdecd-ed28-493f-8eb5-4a561c83b359'}},\n",
       "  {'lc': 1,\n",
       "   'type': 'constructor',\n",
       "   'id': ['langchain', 'schema', 'messages', 'AIMessage'],\n",
       "   'kwargs': {'content': 'はい、森さん、あなたの名前はわかりました。\\n',\n",
       "    'response_metadata': {'is_blocked': False,\n",
       "     'safety_ratings': [],\n",
       "     'usage_metadata': {'prompt_token_count': 42,\n",
       "      'candidates_token_count': 12,\n",
       "      'total_token_count': 54,\n",
       "      'prompt_tokens_details': [{'modality': 1, 'token_count': 42}],\n",
       "      'candidates_tokens_details': [{'modality': 1, 'token_count': 12}],\n",
       "      'thoughts_token_count': 0,\n",
       "      'cached_content_token_count': 0,\n",
       "      'cache_tokens_details': []},\n",
       "     'finish_reason': 'STOP',\n",
       "     'avg_logprobs': -0.4864712158838908,\n",
       "     'model_name': 'gemini-2.0-flash-lite-001'},\n",
       "    'type': 'ai',\n",
       "    'id': 'run--dad3b2ed-db03-4cd5-8799-8ddcb508c1f8-0',\n",
       "    'usage_metadata': {'input_tokens': 42,\n",
       "     'output_tokens': 12,\n",
       "     'total_tokens': 54},\n",
       "    'tool_calls': [],\n",
       "    'invalid_tool_calls': []}}]}"
      ]
     },
     "execution_count": 11,
     "metadata": {},
     "output_type": "execute_result"
    }
   ],
   "source": [
    "response = agent.query(\n",
    "    input={\"messages\": [(\"user\", \"私の名前はわかりますか？\")]},\n",
    "    config={\"configurable\": {\"thread_id\": \"1\"}},\n",
    ")\n",
    "response"
   ]
  },
  {
   "cell_type": "code",
   "execution_count": 12,
   "id": "bed45eeb",
   "metadata": {},
   "outputs": [
    {
     "data": {
      "text/plain": [
       "{'messages': [{'lc': 1,\n",
       "   'type': 'constructor',\n",
       "   'id': ['langchain', 'schema', 'messages', 'HumanMessage'],\n",
       "   'kwargs': {'content': '私の名前はわかりますか？',\n",
       "    'type': 'human',\n",
       "    'id': 'ad6e6ca0-3df2-411e-8e38-720d4d3310c3'}},\n",
       "  {'lc': 1,\n",
       "   'type': 'constructor',\n",
       "   'id': ['langchain', 'schema', 'messages', 'AIMessage'],\n",
       "   'kwargs': {'content': 'ごめんなさい、あなたの名前を知ることはできません。',\n",
       "    'response_metadata': {'is_blocked': False,\n",
       "     'safety_ratings': [],\n",
       "     'usage_metadata': {'prompt_token_count': 20,\n",
       "      'candidates_token_count': 8,\n",
       "      'total_token_count': 28,\n",
       "      'prompt_tokens_details': [{'modality': 1, 'token_count': 20}],\n",
       "      'candidates_tokens_details': [{'modality': 1, 'token_count': 8}],\n",
       "      'thoughts_token_count': 0,\n",
       "      'cached_content_token_count': 0,\n",
       "      'cache_tokens_details': []},\n",
       "     'finish_reason': 'STOP',\n",
       "     'avg_logprobs': -0.5693342685699463,\n",
       "     'model_name': 'gemini-2.0-flash-lite-001'},\n",
       "    'type': 'ai',\n",
       "    'id': 'run--8d31592c-6802-4b84-b458-61af768a55b6-0',\n",
       "    'usage_metadata': {'input_tokens': 20,\n",
       "     'output_tokens': 8,\n",
       "     'total_tokens': 28},\n",
       "    'tool_calls': [],\n",
       "    'invalid_tool_calls': []}}]}"
      ]
     },
     "execution_count": 12,
     "metadata": {},
     "output_type": "execute_result"
    }
   ],
   "source": [
    "response = agent.query(\n",
    "    input={\"messages\": [(\"user\", \"私の名前はわかりますか？\")]},\n",
    "    config={\"configurable\": {\"thread_id\": \"2\"}},\n",
    ")\n",
    "response"
   ]
  },
  {
   "cell_type": "markdown",
   "id": "d2d16328",
   "metadata": {},
   "source": [
    "## エージェントをデプロイする\n",
    "\n",
    "- InternalServerError が起きた時は requirements を確認すること\n",
    "- Google Cloud のロギングを見るとどのようなエラーが起きたかわかる\n",
    "- Reasoning Engine のサービスアカウント `service-714913803218@gcp-sa-aiplatform-re.iam.gserviceaccount.com` に対して Cloud SQL のアクセス権限を付与する必要がある\n",
    "  - IAM にロールを追加\n",
    "  - SQL インスタンスにユーザを登録\n",
    "  - DB に GRANT を追加\n",
    "- checkpoint テーブルがすでにあるとエラーになるのでデプロイ前に消しておく\n",
    "\n",
    "```\n",
    "postgres=> \\dt\n",
    "                                  List of relations\n",
    " Schema |        Name        | Type  |                     Owner\n",
    "--------+--------------------+-------+-----------------------------------------------\n",
    " public | checkpoints        | table | service-714913803218@gcp-sa-aiplatform-re.iam\n",
    " public | checkpoints_writes | table | service-714913803218@gcp-sa-aiplatform-re.iam\n",
    "(2 rows)\n",
    "```\n"
   ]
  },
  {
   "cell_type": "code",
   "execution_count": 5,
   "id": "4720b7fd",
   "metadata": {},
   "outputs": [
    {
     "name": "stdout",
     "output_type": "stream",
     "text": [
      "Using bucket agent-engine-test-250529\n",
      "Writing to gs://agent-engine-test-250529/reasoning_engine/reasoning_engine.pkl\n",
      "Writing to gs://agent-engine-test-250529/reasoning_engine/requirements.txt\n",
      "Creating in-memory tarfile of extra_packages\n",
      "Writing to gs://agent-engine-test-250529/reasoning_engine/dependencies.tar.gz\n",
      "Creating ReasoningEngine\n",
      "Create ReasoningEngine backing LRO: projects/714913803218/locations/us-central1/reasoningEngines/5379734472847523840/operations/8413279735257235456\n",
      "ReasoningEngine created. Resource name: projects/714913803218/locations/us-central1/reasoningEngines/5379734472847523840\n",
      "To use this ReasoningEngine in another session:\n",
      "reasoning_engine = vertexai.preview.reasoning_engines.ReasoningEngine('projects/714913803218/locations/us-central1/reasoningEngines/5379734472847523840')\n"
     ]
    }
   ],
   "source": [
    "from vertexai.preview.reasoning_engines import ReasoningEngine\n",
    "\n",
    "remote_agent = ReasoningEngine.create(\n",
    "    agent,\n",
    "    requirements=[\n",
    "        \"google-cloud-aiplatform[agent_engines,langchain]\",\n",
    "        \"cloudpickle\",\n",
    "        \"langgraph\",\n",
    "        \"pydantic\",\n",
    "        \"langchain-google-cloud-sql-pg\",\n",
    "        \"pg8000\",\n",
    "        \"langchain-openai\",\n",
    "    ],\n",
    "    display_name=\" ReAct Agent with Checkpointer\",\n",
    "    description=\"A simple ReAct agent with LangGraph\",\n",
    "    extra_packages=[],\n",
    ")"
   ]
  },
  {
   "cell_type": "markdown",
   "id": "6be82de6",
   "metadata": {},
   "source": [
    "## デプロイしたエージェントを確認する\n",
    "\n",
    "- ID でしか管理されないのでわかりやすい名前をつけたい\n",
    "- コンソールからはエージェントの名前も確認できる\n"
   ]
  },
  {
   "cell_type": "code",
   "execution_count": 6,
   "id": "4640ecb0",
   "metadata": {},
   "outputs": [
    {
     "name": "stdout",
     "output_type": "stream",
     "text": [
      "<vertexai.agent_engines._agent_engines.AgentEngine object at 0x7ec47e5c8e90> \n",
      "resource name: projects/714913803218/locations/us-central1/reasoningEngines/5379734472847523840\n",
      "<vertexai.agent_engines._agent_engines.AgentEngine object at 0x7ec47e5c9290> \n",
      "resource name: projects/714913803218/locations/us-central1/reasoningEngines/4531931842995027968\n",
      "<vertexai.agent_engines._agent_engines.AgentEngine object at 0x7ec47e661350> \n",
      "resource name: projects/714913803218/locations/us-central1/reasoningEngines/8888038582569140224\n"
     ]
    }
   ],
   "source": [
    "from vertexai import agent_engines\n",
    "\n",
    "for resource in agent_engines.list():\n",
    "    print(resource)"
   ]
  },
  {
   "cell_type": "markdown",
   "id": "51ac9f78",
   "metadata": {},
   "source": [
    "## デプロイしたエージェントを使用する\n"
   ]
  },
  {
   "cell_type": "code",
   "execution_count": 7,
   "id": "a87b38d2",
   "metadata": {},
   "outputs": [],
   "source": [
    "remote_agent = agent_engines.get(\n",
    "    \"projects/714913803218/locations/us-central1/reasoningEngines/5379734472847523840\"\n",
    ")"
   ]
  },
  {
   "cell_type": "code",
   "execution_count": 11,
   "id": "1e5088ef",
   "metadata": {},
   "outputs": [
    {
     "data": {
      "text/plain": [
       "{'messages': [{'kwargs': {'content': 'こんにちは、私の名前は森です。',\n",
       "    'type': 'human',\n",
       "    'id': 'acc63eba-ffe8-449f-98c5-ba760b8bb67b'},\n",
       "   'type': 'constructor',\n",
       "   'id': ['langchain', 'schema', 'messages', 'HumanMessage'],\n",
       "   'lc': 1.0},\n",
       "  {'kwargs': {'content': 'こんにちは、森さん。何かお手伝いできることはありますか？\\n',\n",
       "    'tool_calls': [],\n",
       "    'type': 'ai',\n",
       "    'id': 'run--b1d970c1-472c-47e3-b9c4-59f6fc1c4b84-0',\n",
       "    'response_metadata': {'safety_ratings': [],\n",
       "     'finish_reason': 'STOP',\n",
       "     'usage_metadata': {'prompt_tokens_details': [{'modality': 1.0,\n",
       "        'token_count': 22.0}],\n",
       "      'total_token_count': 36.0,\n",
       "      'cache_tokens_details': [],\n",
       "      'candidates_tokens_details': [{'modality': 1.0, 'token_count': 14.0}],\n",
       "      'cached_content_token_count': 0.0,\n",
       "      'prompt_token_count': 22.0,\n",
       "      'candidates_token_count': 14.0,\n",
       "      'thoughts_token_count': 0.0},\n",
       "     'avg_logprobs': -0.04453363163130624,\n",
       "     'is_blocked': False,\n",
       "     'model_name': 'gemini-2.0-flash-lite-001'},\n",
       "    'usage_metadata': {'output_tokens': 14.0,\n",
       "     'total_tokens': 36.0,\n",
       "     'input_tokens': 22.0},\n",
       "    'invalid_tool_calls': []},\n",
       "   'type': 'constructor',\n",
       "   'id': ['langchain', 'schema', 'messages', 'AIMessage'],\n",
       "   'lc': 1.0}]}"
      ]
     },
     "execution_count": 11,
     "metadata": {},
     "output_type": "execute_result"
    }
   ],
   "source": [
    "response = remote_agent.query(\n",
    "    input={\"messages\": [(\"user\", \"こんにちは、私の名前は森です。\")]},\n",
    "    config={\n",
    "        # checkpointerを使うにはthread_idを指定する必要がある\n",
    "        \"configurable\": {\"thread_id\": \"300\"}\n",
    "    },\n",
    ")\n",
    "response"
   ]
  },
  {
   "cell_type": "code",
   "execution_count": 12,
   "id": "54ff9b6c",
   "metadata": {},
   "outputs": [
    {
     "data": {
      "text/plain": [
       "{'messages': [{'kwargs': {'content': 'こんにちは、私の名前は森です。',\n",
       "    'type': 'human',\n",
       "    'id': 'acc63eba-ffe8-449f-98c5-ba760b8bb67b'},\n",
       "   'type': 'constructor',\n",
       "   'id': ['langchain', 'schema', 'messages', 'HumanMessage'],\n",
       "   'lc': 1.0},\n",
       "  {'kwargs': {'content': 'こんにちは、森さん。何かお手伝いできることはありますか？\\n',\n",
       "    'tool_calls': [],\n",
       "    'type': 'ai',\n",
       "    'id': 'run--b1d970c1-472c-47e3-b9c4-59f6fc1c4b84-0',\n",
       "    'response_metadata': {'safety_ratings': [],\n",
       "     'finish_reason': 'STOP',\n",
       "     'usage_metadata': {'prompt_tokens_details': [{'modality': 1.0,\n",
       "        'token_count': 22.0}],\n",
       "      'total_token_count': 36.0,\n",
       "      'cache_tokens_details': [],\n",
       "      'candidates_tokens_details': [{'modality': 1.0, 'token_count': 14.0}],\n",
       "      'cached_content_token_count': 0.0,\n",
       "      'candidates_token_count': 14.0,\n",
       "      'prompt_token_count': 22.0,\n",
       "      'thoughts_token_count': 0.0},\n",
       "     'avg_logprobs': -0.04453363163130624,\n",
       "     'is_blocked': False,\n",
       "     'model_name': 'gemini-2.0-flash-lite-001'},\n",
       "    'usage_metadata': {'output_tokens': 14.0,\n",
       "     'total_tokens': 36.0,\n",
       "     'input_tokens': 22.0},\n",
       "    'invalid_tool_calls': []},\n",
       "   'type': 'constructor',\n",
       "   'id': ['langchain', 'schema', 'messages', 'AIMessage'],\n",
       "   'lc': 1.0},\n",
       "  {'kwargs': {'content': '私の名前はわかりますか？',\n",
       "    'type': 'human',\n",
       "    'id': '0e405612-a451-47fd-88c4-d7198c547bbc'},\n",
       "   'type': 'constructor',\n",
       "   'id': ['langchain', 'schema', 'messages', 'HumanMessage'],\n",
       "   'lc': 1.0},\n",
       "  {'kwargs': {'content': 'はい、森さんですね。\\n',\n",
       "    'type': 'ai',\n",
       "    'tool_calls': [],\n",
       "    'id': 'run--a558ab84-ffeb-4ba5-aeab-a393cb3e7e98-0',\n",
       "    'response_metadata': {'safety_ratings': [],\n",
       "     'finish_reason': 'STOP',\n",
       "     'avg_logprobs': -0.09118430955069405,\n",
       "     'usage_metadata': {'prompt_tokens_details': [{'modality': 1.0,\n",
       "        'token_count': 42.0}],\n",
       "      'total_token_count': 49.0,\n",
       "      'cache_tokens_details': [],\n",
       "      'candidates_tokens_details': [{'modality': 1.0, 'token_count': 7.0}],\n",
       "      'cached_content_token_count': 0.0,\n",
       "      'prompt_token_count': 42.0,\n",
       "      'candidates_token_count': 7.0,\n",
       "      'thoughts_token_count': 0.0},\n",
       "     'is_blocked': False,\n",
       "     'model_name': 'gemini-2.0-flash-lite-001'},\n",
       "    'usage_metadata': {'output_tokens': 7.0,\n",
       "     'total_tokens': 49.0,\n",
       "     'input_tokens': 42.0},\n",
       "    'invalid_tool_calls': []},\n",
       "   'type': 'constructor',\n",
       "   'id': ['langchain', 'schema', 'messages', 'AIMessage'],\n",
       "   'lc': 1.0}]}"
      ]
     },
     "execution_count": 12,
     "metadata": {},
     "output_type": "execute_result"
    }
   ],
   "source": [
    "response = remote_agent.query(\n",
    "    input={\"messages\": [(\"user\", \"私の名前はわかりますか？\")]},\n",
    "    config={\n",
    "        # checkpointerを使うにはthread_idを指定する必要がある\n",
    "        \"configurable\": {\"thread_id\": \"300\"}\n",
    "    },\n",
    ")\n",
    "response"
   ]
  }
 ],
 "metadata": {
  "kernelspec": {
   "display_name": ".venv",
   "language": "python",
   "name": "python3"
  },
  "language_info": {
   "codemirror_mode": {
    "name": "ipython",
    "version": 3
   },
   "file_extension": ".py",
   "mimetype": "text/x-python",
   "name": "python",
   "nbconvert_exporter": "python",
   "pygments_lexer": "ipython3",
   "version": "3.11.11"
  }
 },
 "nbformat": 4,
 "nbformat_minor": 5
}
